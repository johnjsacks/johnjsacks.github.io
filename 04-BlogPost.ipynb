{
 "cells": [
  {
   "cell_type": "markdown",
   "id": "55c3812f",
   "metadata": {},
   "source": [
    "<a href = \"https://www.pieriantraining.com\"><img src=\"../PT Centered Purple.png\"> </a>\n",
    "\n",
    "<em style=\"text-align:center\">Copyrighted by Pierian Training</em>"
   ]
  },
  {
   "cell_type": "markdown",
   "id": "e36a6dc9",
   "metadata": {},
   "source": [
    "# Automatic Blog Post creator\n",
    "\n",
    "In this project we will build a blog poster that writes a blog post given something to talk about or discuss.\n",
    "Additionally, a chariming cover photo will be created!"
   ]
  },
  {
   "cell_type": "markdown",
   "id": "a6379c51",
   "metadata": {},
   "source": [
    "## Imports"
   ]
  },
  {
   "cell_type": "code",
   "execution_count": 7,
   "id": "8ccf2479",
   "metadata": {},
   "outputs": [],
   "source": [
    "import random\n",
    "import string\n",
    "from pathlib import Path\n",
    "import os\n",
    "import requests\n",
    "import shutil\n",
    "\n",
    "from git import Repo\n",
    "from bs4 import BeautifulSoup as Soup\n",
    "import openai\n",
    "from PIL import Image\n",
    "\n",
    "from dotenv import load_dotenv\n",
    "load_dotenv()\n",
    "os.getenv('OPENAI_API_KEY')\n",
    "\n",
    "\n",
    "proxy = 'http://192.168.26.50:8080'\n",
    "os.environ['http_proxy'] = proxy\n",
    "os.environ['https_proxy'] = proxy"
   ]
  },
  {
   "cell_type": "code",
   "execution_count": 4,
   "id": "653521c7",
   "metadata": {},
   "outputs": [
    {
     "data": {
      "text/plain": [
       "WindowsPath('C:/github')"
      ]
     },
     "execution_count": 4,
     "metadata": {},
     "output_type": "execute_result"
    }
   ],
   "source": [
    "#pwd\n",
    "PATH_TO_BLOG_REPO = Path('C:\\\\github\\\\.git')\n",
    "PATH_TO_BLOG_REPO.parent"
   ]
  },
  {
   "cell_type": "markdown",
   "id": "acb5d71a",
   "metadata": {},
   "source": [
    "### Paths:"
   ]
  },
  {
   "cell_type": "code",
   "execution_count": 5,
   "id": "7fa46038",
   "metadata": {},
   "outputs": [],
   "source": [
    "#PATH_TO_BLOG_REPO = Path(\"/Users/marci/GIT/OpenAI-API-Python-Course/04-Auto-Blog-Post/b4shy.github.io/.git/\")\n",
    "PATH_TO_BLOG_REPO = Path('C:\\\\github\\\\.git')\n",
    "PATH_TO_BLOG = PATH_TO_BLOG_REPO.parent\n",
    "PATH_TO_CONTENT = PATH_TO_BLOG/\"content\"\n",
    "PATH_TO_CONTENT.mkdir(exist_ok=True, parents=True)"
   ]
  },
  {
   "cell_type": "code",
   "execution_count": 8,
   "id": "90100892",
   "metadata": {},
   "outputs": [
    {
     "data": {
      "text/plain": [
       "WindowsPath('C:/github')"
      ]
     },
     "execution_count": 8,
     "metadata": {},
     "output_type": "execute_result"
    }
   ],
   "source": [
    "PATH_TO_BLOG"
   ]
  },
  {
   "cell_type": "markdown",
   "id": "c49d3fae",
   "metadata": {},
   "source": [
    "## Github Pages\n",
    "\n",
    "1. Create a new public repository on github named **username.github.io**, where username is github username.\n",
    "2. Clone the repository\n",
    "3. Create a new file called **index.html**\n",
    "4. Add some content to **index.html**\n",
    "5. Push your changes\n",
    "6. Goto https://username.github.io"
   ]
  },
  {
   "cell_type": "markdown",
   "id": "7c29ee04",
   "metadata": {},
   "source": [
    "## Automatic updates\n",
    "\n",
    "Manually adding, commiting and pushing is tedious. Thus we are going to implement functionality that handles everything for us.\n",
    "Before using openai to generate content for us, we evaluate our code using random strings!"
   ]
  },
  {
   "cell_type": "code",
   "execution_count": 9,
   "id": "c350ae4f",
   "metadata": {},
   "outputs": [
    {
     "data": {
      "text/plain": [
       "'xwed\\njghdc'"
      ]
     },
     "execution_count": 9,
     "metadata": {},
     "output_type": "execute_result"
    }
   ],
   "source": [
    "def random_string(length):\n",
    "    letters = string.ascii_lowercase + \"\\n\"\n",
    "    \n",
    "    return ''.join(random.choice(letters) for i in range(length))\n",
    "\n",
    "random_string(10)"
   ]
  },
  {
   "cell_type": "code",
   "execution_count": 14,
   "id": "9876f93e",
   "metadata": {},
   "outputs": [],
   "source": [
    "def update_blog(commit_message=\"Updated blog\"):\n",
    "    repo = Repo(PATH_TO_BLOG_REPO)\n",
    "    repo.git.add(all=True)\n",
    "    repo.index.commit(commit_message)\n",
    "    origin = repo.remote(name='origin')\n",
    "    origin.push()\n"
   ]
  },
  {
   "cell_type": "markdown",
   "id": "9cefdf12",
   "metadata": {},
   "source": [
    "Let's create a random text and push it to our blog!"
   ]
  },
  {
   "cell_type": "code",
   "execution_count": 11,
   "id": "dea502ff",
   "metadata": {},
   "outputs": [],
   "source": [
    "random_blogpost = random_string(1000)"
   ]
  },
  {
   "cell_type": "code",
   "execution_count": 12,
   "id": "e5247043",
   "metadata": {},
   "outputs": [],
   "source": [
    "with open(PATH_TO_BLOG/\"index.html\", \"w\") as f:\n",
    "    f.write(random_blogpost)"
   ]
  },
  {
   "cell_type": "code",
   "execution_count": 13,
   "id": "02252b68",
   "metadata": {},
   "outputs": [],
   "source": [
    "update_blog()"
   ]
  },
  {
   "cell_type": "markdown",
   "id": "a0521153",
   "metadata": {},
   "source": [
    "Now, let's check if our blog got updated! Note that it might take a minute or two.\n",
    "\n",
    "One problem remains: We always overwrite the starting page!\n",
    "It would be much better to create a new html file and create a link to this file on the homepage. \n",
    "Ideally, the routine would automatically assign a file name and make sure that nothing is overwritten!"
   ]
  },
  {
   "cell_type": "code",
   "execution_count": 27,
   "id": "09e611e2",
   "metadata": {},
   "outputs": [],
   "source": [
    "def create_new_blog(title, content, cover_image=Path(\"../PT Centered Purple.png\")):\n",
    "    \n",
    "    cover_image = Path(cover_image)\n",
    "\n",
    "    \n",
    "    \n",
    "    files =len(list(PATH_TO_CONTENT.glob(\"*.html\")))\n",
    "    new_title = f\"{files+1}.html\"\n",
    "    path_to_new_content = PATH_TO_CONTENT/new_title\n",
    "    \n",
    "    shutil.copy(cover_image, PATH_TO_CONTENT)\n",
    "    if not os.path.exists(path_to_new_content):\n",
    "        with open(path_to_new_content, \"w\") as f:\n",
    "            f.write(\"<!DOCTYPE html>\\n\")\n",
    "            f.write(\"<html>\\n\")\n",
    "            f.write(\"<head>\\n\")\n",
    "            f.write(f\"<title> {title} </title>\\n\")\n",
    "            f.write(\"</head>\\n\")\n",
    "            \n",
    "            f.write(\"<body>\\n\")\n",
    "            f.write(f\"<img src='{cover_image.name}' alt='Cover Image'> <br />\\n\")\n",
    "            f.write(f\"<h1> {title} </h1>\")\n",
    "            f.write(content.replace(\"\\n\", \"<br />\\n\"))\n",
    "            f.write(\"</body>\\n\")\n",
    "            f.write(\"</html>\\n\")\n",
    "            print(\"Blog created\")\n",
    "            return path_to_new_content\n",
    "    else:\n",
    "        raise FileExistsError(\"File already exist! Abort\")"
   ]
  },
  {
   "cell_type": "code",
   "execution_count": 28,
   "id": "9107ba71",
   "metadata": {},
   "outputs": [
    {
     "name": "stdout",
     "output_type": "stream",
     "text": [
      "Blog created\n"
     ]
    }
   ],
   "source": [
    "path_to_new_content = create_new_blog(\"Test_Title\", random_string(5000),'KevinLo.png')"
   ]
  },
  {
   "cell_type": "code",
   "execution_count": 34,
   "id": "047f4c48",
   "metadata": {},
   "outputs": [
    {
     "data": {
      "text/plain": [
       "WindowsPath('C:/github/content/2.html')"
      ]
     },
     "execution_count": 34,
     "metadata": {},
     "output_type": "execute_result"
    }
   ],
   "source": [
    "path_to_new_content"
   ]
  },
  {
   "cell_type": "markdown",
   "id": "e0bcaae3",
   "metadata": {},
   "source": [
    "Now all we have to do in order to access our new blog is to add the link to index.html.\n",
    "Let's manually overwrite index.html with the following code.\n",
    "\n",
    "After that we can use beautifulsoup to automatically add the link to index.html"
   ]
  },
  {
   "cell_type": "raw",
   "id": "4a589095",
   "metadata": {},
   "source": [
    "<!DOCTYPE html>\n",
    "<html>\n",
    "\n",
    "    <head>\n",
    "        <title>My Blog</title>\n",
    "    </head>\n",
    "\n",
    "    <body>\n",
    "        <h1>My Blog</h1>\n",
    "        <a href=\"index.html\">Home</a>\n",
    "\n",
    "    </body>\n",
    "    \n",
    "</html>"
   ]
  },
  {
   "cell_type": "code",
   "execution_count": 31,
   "id": "dcffb08c",
   "metadata": {},
   "outputs": [
    {
     "data": {
      "text/plain": [
       "'<!DOCTYPE html>\\n\\n<html lang=\"en\">\\n<head>\\n<meta charset=\"utf-8\"/>\\n<meta content=\"IE=edge\" http-equiv=\"X-UA-Compatible\"/>\\n<meta content=\"width=device-width, initial-scale=1.0\" name=\"viewport\"/>\\n<title>Test</title>\\n</head>\\n<body>\\n<h1>Using Python and OpenAI for Blog</h1>\\n<a href=\"index.html\">Home</a>\\n</body>\\n</html>'"
      ]
     },
     "execution_count": 31,
     "metadata": {},
     "output_type": "execute_result"
    }
   ],
   "source": [
    "with open(PATH_TO_BLOG/\"index.html\") as index:\n",
    "    soup = Soup(index.read())\n",
    "str(soup)"
   ]
  },
  {
   "cell_type": "code",
   "execution_count": 32,
   "id": "6b744b6c",
   "metadata": {},
   "outputs": [],
   "source": [
    "def check_for_duplicate_links(path_to_new_content, links):\n",
    "    urls = [str(link.get(\"href\")) for link in links]\n",
    "    content_path = str(Path(*path_to_new_content.parts[-2:]))\n",
    "    return content_path in urls\n",
    "    "
   ]
  },
  {
   "cell_type": "code",
   "execution_count": 33,
   "id": "75b7bcd9",
   "metadata": {},
   "outputs": [],
   "source": [
    "def write_to_index(path_to_new_content):\n",
    "    with open(PATH_TO_BLOG/\"index.html\") as index:\n",
    "        soup = Soup(index.read())\n",
    "\n",
    "    links = soup.find_all(\"a\")\n",
    "    last_link = links[-1]\n",
    "    \n",
    "    if check_for_duplicate_links(path_to_new_content, links):\n",
    "        raise ValueError(\"Link does already exist!\")\n",
    "        \n",
    "    link_to_new_blog = soup.new_tag(\"a\", href=Path(*path_to_new_content.parts[-2:]))\n",
    "    link_to_new_blog.string = path_to_new_content.name.split(\".\")[0]\n",
    "    last_link.insert_after(link_to_new_blog)\n",
    "    \n",
    "    with open(PATH_TO_BLOG/\"index.html\", \"w\") as f:\n",
    "        f.write(str(soup.prettify(formatter='html')))"
   ]
  },
  {
   "cell_type": "code",
   "execution_count": null,
   "id": "c22f3186",
   "metadata": {},
   "outputs": [],
   "source": [
    "write_to_index(path_to_new_content)"
   ]
  },
  {
   "cell_type": "markdown",
   "id": "d8d5adb3",
   "metadata": {},
   "source": [
    "Last but not least we can push the new blogpost to the repostory!\n",
    "Again it might take one or two minutes until you can see your changes"
   ]
  },
  {
   "cell_type": "code",
   "execution_count": null,
   "id": "6570e6c5",
   "metadata": {},
   "outputs": [],
   "source": [
    "update_blog()"
   ]
  },
  {
   "cell_type": "markdown",
   "id": "019273b5",
   "metadata": {},
   "source": [
    "## OpenAI API\n",
    "\n",
    "Remember to use the notebook as shown, you must set your OpenAI API Key as an environment variable. Obviously, there are many ways you could provide your API Key to the Python code, input() or even hard-coded, but those are typically not recommended for safety reasons. Having it as an environment variable let's the key live on the computer, but not actually be present in the code.\n",
    "\n",
    "### Set-up Open AI API Key\n",
    "\n",
    "We'll only need to do this once per computer"
   ]
  },
  {
   "cell_type": "code",
   "execution_count": null,
   "id": "e93350ef",
   "metadata": {},
   "outputs": [],
   "source": [
    "# Uncomment below and swap in your key to place your environment key using Python\n",
    "# Then you can delete the key string and the code cell below will still work!\n",
    "# os.environ[\"OPENAI_API_KEY\"] = \"Your key goes here!"
   ]
  },
  {
   "cell_type": "code",
   "execution_count": null,
   "id": "57273faa",
   "metadata": {},
   "outputs": [],
   "source": [
    "openai.api_key = os.getenv(\"OPENAI_API_KEY\")"
   ]
  },
  {
   "cell_type": "markdown",
   "id": "59d5ff7d",
   "metadata": {},
   "source": [
    "### Tell GPT to generate a blogpost\n",
    "We will tell GPT to generate a blogpost about a topic of interest."
   ]
  },
  {
   "cell_type": "markdown",
   "id": "2fcdf452",
   "metadata": {},
   "source": [
    "### Prompt Tuning:\n",
    "To get the best out of GPT, we should inform it about our biography and give some hints about the blogpost. We directly assign a nice and catching title"
   ]
  },
  {
   "cell_type": "raw",
   "id": "0c15ee9e",
   "metadata": {},
   "source": [
    "Jose's Website\n",
    " \n",
    " Biography\n",
    " I am a Python instructor teaching people machine learning!\n",
    "\n",
    "\n",
    " Blog\n",
    "\n",
    " Jan 31, 2023\n",
    " Title: Why AI will never replace the radiologist\n",
    " tags: tech, machine-learning, radiology\n",
    " Summary:  I talk about the cons of machine learning in radiology. I explain why I think that AI will never replace the radiologist.\n",
    " Full text:\n"
   ]
  },
  {
   "cell_type": "code",
   "execution_count": null,
   "id": "a36b3d8a",
   "metadata": {},
   "outputs": [],
   "source": [
    "def create_prompt(title):\n",
    "    prompt = \"\"\"Jose's Website\n",
    " \n",
    " Biography\n",
    " I am a Python instructor teaching people machine learning!\n",
    "\n",
    "\n",
    " Blog\n",
    "\n",
    " Jan 31, 2023\n",
    " Title: Why AI will never replace the radiologist\n",
    " tags: tech, machine-learning, radiology\n",
    " Summary:  I talk about the cons of machine learning in radiology. I explain why I think that AI will never replace the radiologist.\n",
    " Full text: \"\"\".format(title)\n",
    "    return prompt"
   ]
  },
  {
   "cell_type": "code",
   "execution_count": null,
   "id": "5a68a9ad",
   "metadata": {},
   "outputs": [],
   "source": [
    "title = \"Why AI will never replace the radiologist\"\n",
    "print(create_prompt(title))"
   ]
  },
  {
   "cell_type": "markdown",
   "id": "dae487bc",
   "metadata": {},
   "source": [
    "### OpenAI API Call\n",
    "Let's use text-davinci-003 to create the blog post!"
   ]
  },
  {
   "cell_type": "code",
   "execution_count": null,
   "id": "d76f08fd",
   "metadata": {},
   "outputs": [],
   "source": [
    "response = openai.Completion.create(engine=\"text-davinci-003\",\n",
    "                                            prompt=create_prompt(title),\n",
    "                                            max_tokens=512,  # we increased the tokens to get a longer blog post\n",
    "                                            temperature=0.7)"
   ]
  },
  {
   "cell_type": "code",
   "execution_count": null,
   "id": "a42773e5",
   "metadata": {},
   "outputs": [],
   "source": [
    "blog_content = response[\"choices\"][0][\"text\"]"
   ]
  },
  {
   "cell_type": "code",
   "execution_count": null,
   "id": "e833b1c5",
   "metadata": {},
   "outputs": [],
   "source": [
    "print(blog_content)"
   ]
  },
  {
   "cell_type": "markdown",
   "id": "d446948e",
   "metadata": {},
   "source": [
    "### Dalle2 prompt\n",
    "We will now create the prompt which we pass to dalle2 "
   ]
  },
  {
   "cell_type": "code",
   "execution_count": null,
   "id": "033b7fee",
   "metadata": {},
   "outputs": [],
   "source": [
    "def dalle2_prompt(title):\n",
    "    prompt = f\"Pixel art showing '{title}'.\"\n",
    "    return prompt"
   ]
  },
  {
   "cell_type": "code",
   "execution_count": null,
   "id": "47000432",
   "metadata": {},
   "outputs": [],
   "source": [
    "image_prompt = dalle2_prompt(title)\n",
    "image_prompt"
   ]
  },
  {
   "cell_type": "code",
   "execution_count": null,
   "id": "0bf20f2e",
   "metadata": {},
   "outputs": [],
   "source": [
    "response = openai.Image.create(\n",
    "  prompt=image_prompt,\n",
    "  n=1,\n",
    "  size=\"1024x1024\"\n",
    ")\n"
   ]
  },
  {
   "cell_type": "code",
   "execution_count": null,
   "id": "2057f2da",
   "metadata": {},
   "outputs": [],
   "source": [
    "image_url = response['data'][0]['url']\n"
   ]
  },
  {
   "cell_type": "code",
   "execution_count": null,
   "id": "9462ecca",
   "metadata": {},
   "outputs": [],
   "source": [
    "def save_image(image_url, file_name):\n",
    "    image_res = requests.get(image_url, stream = True)\n",
    "    \n",
    "    if image_res.status_code == 200:\n",
    "        with open(file_name,'wb') as f:\n",
    "            shutil.copyfileobj(image_res.raw, f)\n",
    "    else:\n",
    "        print(\"Error downloading image!\")\n",
    "    return image_res.status_code\n"
   ]
  },
  {
   "cell_type": "code",
   "execution_count": null,
   "id": "37d18a3d",
   "metadata": {},
   "outputs": [],
   "source": [
    "save_path = \"title2.png\""
   ]
  },
  {
   "cell_type": "code",
   "execution_count": null,
   "id": "2d2f9e04",
   "metadata": {},
   "outputs": [],
   "source": [
    "save_image(image_url, save_path)"
   ]
  },
  {
   "cell_type": "code",
   "execution_count": null,
   "id": "0e31b3a0",
   "metadata": {
    "scrolled": true
   },
   "outputs": [],
   "source": [
    "Image.open(save_path)"
   ]
  },
  {
   "cell_type": "code",
   "execution_count": null,
   "id": "4a4d65ac",
   "metadata": {},
   "outputs": [],
   "source": [
    "title"
   ]
  },
  {
   "cell_type": "code",
   "execution_count": null,
   "id": "7535b944",
   "metadata": {},
   "outputs": [],
   "source": [
    "blog_content"
   ]
  },
  {
   "cell_type": "code",
   "execution_count": null,
   "id": "f4abd2c1",
   "metadata": {},
   "outputs": [],
   "source": [
    "path_to_new_content = create_new_blog(title, blog_content, save_path)"
   ]
  },
  {
   "cell_type": "code",
   "execution_count": null,
   "id": "cef51b1b",
   "metadata": {},
   "outputs": [],
   "source": [
    "write_to_index(path_to_new_content)"
   ]
  },
  {
   "cell_type": "code",
   "execution_count": null,
   "id": "6aa3c362",
   "metadata": {},
   "outputs": [],
   "source": [
    "update_blog()"
   ]
  }
 ],
 "metadata": {
  "kernelspec": {
   "display_name": "Python 3 (ipykernel)",
   "language": "python",
   "name": "python3"
  },
  "language_info": {
   "codemirror_mode": {
    "name": "ipython",
    "version": 3
   },
   "file_extension": ".py",
   "mimetype": "text/x-python",
   "name": "python",
   "nbconvert_exporter": "python",
   "pygments_lexer": "ipython3",
   "version": "3.10.7"
  },
  "vscode": {
   "interpreter": {
    "hash": "5455cba45dca8dec86c35d949ecf676492206ef67d9fdf2560e140a882ab099f"
   }
  }
 },
 "nbformat": 4,
 "nbformat_minor": 5
}
